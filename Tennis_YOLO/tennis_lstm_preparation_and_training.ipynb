{
 "cells": [
  {
   "cell_type": "markdown",
   "metadata": {},
   "source": "# Tennis Ball Trajectory Prediction with LSTM\n## Data Preparation and Model Training - Paper Implementation\n\nThis notebook prepares the preprocessed tennis data for the LSTM model and runs the complete training pipeline as specified in the research paper.\n\n### Paper Implementation (Sections 7.8-7.14):\n- **LSTM Architecture**: Two layers (128→64 units) with TimeDistributed output\n- **Input Specification**: 12 frames × 69 features → 5 frames × 2 coordinates\n- **Preprocessing**: Savitzky-Golay filtering + Z-score normalization\n- **Optimization**: Bayesian hyperparameter search (30 iterations)\n- **Evaluation**: RMSE metrics with comprehensive error analysis\n\n### Target Performance (Paper Results):\n- **RMSE X-axis**: 1.19 meters (9.8% improvement over GBRT)\n- **RMSE Y-axis**: 1.04 meters (5.5% improvement over GBRT)\n- **Error Growth**: 26% increase from first to last prediction frame\n- **Serve Impact**: 18% higher error during serve/impact phases"
  },
  {
   "cell_type": "code",
   "metadata": {
    "ExecuteTime": {
     "end_time": "2025-06-23T23:31:49.585355Z",
     "start_time": "2025-06-23T23:31:40.425571Z"
    }
   },
   "source": "import sys\nimport os\nimport numpy as np\nimport pandas as pd\nimport matplotlib.pyplot as plt\nimport seaborn as sns\nfrom datetime import datetime\nimport warnings\nwarnings.filterwarnings('ignore')\n\nfrom tennis_lstm import TennisLSTMAligned, TennisLSTMModel, TennisLSTMDataset\nimport torch\nimport torch.nn as nn\nfrom torch.utils.data import DataLoader\n\nimport data_analysis_help.lstm_training_helper as lstm_helper\n\nplt.style.use('default')\nsns.set_palette(\"husl\")\nplt.rcParams['figure.figsize'] = (12, 8)\n\nprint(\"Libraries imported successfully!\")\nprint(f\"PyTorch version: {torch.__version__}\")\nprint(f\"CUDA available: {torch.cuda.is_available()}\")\nprint(\"Ready for LSTM tennis ball trajectory prediction\")",
   "outputs": [],
   "execution_count": null
  },
  {
   "cell_type": "markdown",
   "metadata": {},
   "source": "## 1. Data Loading and Initial Setup"
  },
  {
   "cell_type": "code",
   "metadata": {
    "ExecuteTime": {
     "end_time": "2025-06-23T23:31:50.513759Z",
     "start_time": "2025-06-23T23:31:49.593041Z"
    }
   },
   "source": "lstm_model = lstm_helper.initialize_lstm_model()\n\ndataset_file = 'complete_tennis_comprehensive_preprocessed_ml4qs.csv'\ndataset_available = lstm_helper.check_dataset_availability(dataset_file)",
   "outputs": [],
   "execution_count": null
  },
  {
   "cell_type": "markdown",
   "metadata": {},
   "source": "## 2. Data Loading and Preprocessing"
  },
  {
   "cell_type": "code",
   "metadata": {
    "ExecuteTime": {
     "end_time": "2025-06-23T23:31:51.723836Z",
     "start_time": "2025-06-23T23:31:50.732217Z"
    }
   },
   "source": "df_raw = lstm_helper.load_and_prepare_lstm_data(lstm_model, dataset_file)",
   "outputs": [],
   "execution_count": null
  },
  {
   "cell_type": "markdown",
   "metadata": {},
   "source": "## 3. Feature Engineering (69 Features per Frame)"
  },
  {
   "cell_type": "code",
   "metadata": {
    "ExecuteTime": {
     "end_time": "2025-06-23T23:31:51.838374Z",
     "start_time": "2025-06-23T23:31:51.729821Z"
    }
   },
   "source": "df_features, feature_cols = lstm_helper.create_lstm_features(lstm_model, df_raw)",
   "outputs": [],
   "execution_count": null
  },
  {
   "cell_type": "markdown",
   "metadata": {},
   "source": "## 4. Sequence Preparation for LSTM"
  },
  {
   "cell_type": "code",
   "metadata": {
    "ExecuteTime": {
     "end_time": "2025-06-23T23:32:22.226875Z",
     "start_time": "2025-06-23T23:31:51.898652Z"
    }
   },
   "source": "X, y = lstm_helper.prepare_lstm_sequences(lstm_model, df_features, feature_cols)",
   "outputs": [],
   "execution_count": null
  },
  {
   "cell_type": "markdown",
   "metadata": {},
   "source": "## 5. Data Splitting and Preprocessing"
  },
  {
   "cell_type": "code",
   "metadata": {
    "ExecuteTime": {
     "end_time": "2025-06-23T23:32:22.484892Z",
     "start_time": "2025-06-23T23:32:22.232274Z"
    }
   },
   "source": "X_train_norm, X_test_norm, y_train_norm, y_test_norm = lstm_helper.apply_temporal_split_and_normalization(lstm_model, X, y)",
   "outputs": [],
   "execution_count": null
  },
  {
   "cell_type": "markdown",
   "metadata": {},
   "source": "## 6. Model Architecture Visualization"
  },
  {
   "cell_type": "code",
   "metadata": {
    "ExecuteTime": {
     "end_time": "2025-06-23T23:32:22.553482Z",
     "start_time": "2025-06-23T23:32:22.524659Z"
    }
   },
   "source": "demo_model, total_params, trainable_params = lstm_helper.create_and_visualize_model_architecture(lstm_model)",
   "outputs": [],
   "execution_count": null
  },
  {
   "cell_type": "markdown",
   "metadata": {},
   "source": "## 7. Bayesian Hyperparameter Optimization"
  },
  {
   "cell_type": "code",
   "metadata": {
    "ExecuteTime": {
     "end_time": "2025-06-24T00:47:34.616141Z",
     "start_time": "2025-06-23T23:32:22.601040Z"
    }
   },
   "source": "run_optimization = True  # Set to False to skip for quick testing\n\nbest_params, opt_results, opt_fig = lstm_helper.run_bayesian_optimization(\n    lstm_model, X_train_norm, X_test_norm, y_train_norm, y_test_norm, run_optimization\n)\n\nif opt_fig is not None:\n    plt.show()",
   "outputs": [],
   "execution_count": null
  },
  {
   "cell_type": "markdown",
   "metadata": {},
   "source": "## 8. Model Training"
  },
  {
   "cell_type": "code",
   "metadata": {
    "ExecuteTime": {
     "end_time": "2025-06-24T00:59:19.650830Z",
     "start_time": "2025-06-24T00:47:34.834139Z"
    }
   },
   "source": "final_model, train_losses, val_losses, train_loader, test_loader = lstm_helper.train_final_model(\n    lstm_model, best_params, X_train_norm, X_test_norm, y_train_norm, y_test_norm\n)\n\ntraining_fig = lstm_helper.create_training_progress_plots(train_losses, val_losses)\nplt.show()",
   "outputs": [],
   "execution_count": null
  },
  {
   "cell_type": "markdown",
   "metadata": {},
   "source": "## 9. Model Evaluation and Paper Comparison"
  },
  {
   "cell_type": "code",
   "metadata": {
    "ExecuteTime": {
     "end_time": "2025-06-24T00:59:20.975198Z",
     "start_time": "2025-06-24T00:59:19.756140Z"
    }
   },
   "source": "results, improvement_x, improvement_y = lstm_helper.evaluate_model_performance(lstm_model, final_model, test_loader)\n\nperformance_fig = lstm_helper.create_performance_comparison_plots(results, improvement_x, improvement_y)\nplt.show()",
   "outputs": [],
   "execution_count": null
  },
  {
   "cell_type": "markdown",
   "metadata": {},
   "source": "## 10. Comprehensive Error Analysis (Paper Section 7.14)"
  },
  {
   "cell_type": "code",
   "metadata": {
    "ExecuteTime": {
     "end_time": "2025-06-24T00:59:22.115589Z",
     "start_time": "2025-06-24T00:59:20.991335Z"
    }
   },
   "source": "error_analysis = lstm_helper.perform_comprehensive_error_analysis(lstm_model, results)\n\nerror_fig = lstm_helper.create_error_analysis_plots(error_analysis)\nplt.show()",
   "outputs": [],
   "execution_count": null
  },
  {
   "cell_type": "markdown",
   "metadata": {},
   "source": "## 11. Spatial Error Heatmap"
  },
  {
   "cell_type": "code",
   "metadata": {
    "ExecuteTime": {
     "end_time": "2025-06-24T00:59:23.852635Z",
     "start_time": "2025-06-24T00:59:22.196178Z"
    }
   },
   "source": "spatial_errors = lstm_helper.create_spatial_error_heatmap(lstm_model, results)",
   "outputs": [],
   "execution_count": null
  },
  {
   "cell_type": "markdown",
   "metadata": {},
   "source": "## 12. Model Deployment and Performance Summary"
  },
  {
   "cell_type": "code",
   "metadata": {
    "ExecuteTime": {
     "end_time": "2025-06-24T00:59:24.020264Z",
     "start_time": "2025-06-24T00:59:23.998578Z"
    }
   },
   "source": "export_info = lstm_helper.save_model_and_create_summary(\n    final_model, results, error_analysis, best_params, train_losses, trainable_params, improvement_x, improvement_y\n)",
   "outputs": [],
   "execution_count": null
  },
  {
   "cell_type": "markdown",
   "metadata": {},
   "source": ""
  }
 ],
 "metadata": {
  "kernelspec": {
   "display_name": "Python 3",
   "language": "python",
   "name": "python3"
  },
  "language_info": {
   "codemirror_mode": {
    "name": "ipython",
    "version": 3
   },
   "file_extension": ".py",
   "mimetype": "text/x-python",
   "name": "python",
   "nbconvert_exporter": "python",
   "pygments_lexer": "ipython3",
   "version": "3.8.5"
  }
 },
 "nbformat": 4,
 "nbformat_minor": 4
}
