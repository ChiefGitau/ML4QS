{
 "cells": [
  {
   "cell_type": "markdown",
   "metadata": {},
   "source": [
    "# Tennis Dataset Analysis -\n",
    "## Comprehensive Analysis of Multi-Video Tennis Temporal Dataset\n",
    "\n",
    "- **Temporal Data Analysis**: Time-series analysis of player and ball movements\n",
    "- **Data Quality Assessment**: Missing data patterns and detection rates\n",
    "- **Feature Engineering**: Derived metrics from raw position data\n",
    "- **Multi-object Tracking**: Coordinated analysis of players and ball\n",
    "- **Court-calibrated Measurements**: Real-world distances and speeds\n",
    "- **Statistical Analysis**: Performance metrics and movement patterns"
   ]
  },
  {
   "cell_type": "markdown",
   "metadata": {},
   "source": "## Data Loading and Initial Exploration"
  },
  {
   "cell_type": "code",
   "metadata": {
    "ExecuteTime": {
     "end_time": "2025-06-21T23:51:12.684253Z",
     "start_time": "2025-06-21T23:51:12.672850Z"
    }
   },
   "source": "import pandas as pd\nimport numpy as np\nimport matplotlib.pyplot as plt\nimport seaborn as sns\nfrom datetime import datetime\nimport warnings\nwarnings.filterwarnings('ignore')\n\nimport data_analysis_help.dataset_analysis_helper as helper\n\nplt.style.use('default')\nsns.set_palette(\"husl\")\n\nprint(\"TENNIS DATASET ANALYSIS - ML4QS Chapter 2\")\nprint(\"=\" * 60)\nprint(f\"Analysis started: {datetime.now().strftime('%Y-%m-%d %H:%M:%S')}\")",
   "outputs": [],
   "execution_count": null
  },
  {
   "cell_type": "code",
   "metadata": {
    "ExecuteTime": {
     "end_time": "2025-06-21T23:51:12.865974Z",
     "start_time": "2025-06-21T23:51:12.703211Z"
    }
   },
   "source": "dataset_file = 'tennis_comprehensive_temporal_dataset_20250622_012949.csv'\n\ntry:\n    print(f\"Loading dataset: {dataset_file}\")\n    df = pd.read_csv(dataset_file, index_col=0, parse_dates=True)\n    \n    print(\"Dataset loaded successfully\")\n    print(f\"Shape: {df.shape[0]:,} rows × {df.shape[1]} columns\")\n    print(f\"Time range: {df.index.min()} to {df.index.max()}\")\n    print(f\"Duration: {df['time_seconds'].max():.1f} seconds ({df['time_seconds'].max()/60:.1f} minutes)\")\n    \nexcept FileNotFoundError:\n    print(f\"Dataset file not found: {dataset_file}\")\n    print(\"Please ensure the file exists in the current directory\")\n    raise\nexcept Exception as e:\n    print(f\"Error loading dataset: {e}\")\n    raise",
   "outputs": [],
   "execution_count": null
  },
  {
   "cell_type": "code",
   "metadata": {
    "ExecuteTime": {
     "end_time": "2025-06-21T23:51:12.930930Z",
     "start_time": "2025-06-21T23:51:12.921913Z"
    }
   },
   "source": "print(\"DATASET STRUCTURE OVERVIEW\")\nprint(\"=\" * 50)\n\ncolumn_categories = helper.categorize_columns(df)\n\nprint(\"Column Categories:\")\nfor category, columns in column_categories.items():\n    print(f\"  {category}: {len(columns)} columns\")\n    if len(columns) <= 5:\n        print(f\"    {', '.join(columns)}\")\n    else:\n        print(f\"    {', '.join(columns[:3])}... (+{len(columns)-3} more)\")\n\nprint(f\"\\nData Types:\")\ndata_types = df.dtypes.value_counts()\nfor dtype, count in data_types.items():\n    print(f\"  {dtype}: {count} columns\")",
   "outputs": [],
   "execution_count": null
  },
  {
   "cell_type": "code",
   "metadata": {
    "ExecuteTime": {
     "end_time": "2025-06-21T23:51:13.020906Z",
     "start_time": "2025-06-21T23:51:13.001435Z"
    }
   },
   "source": "print(\"BASIC DATASET STATISTICS\")\nprint(\"=\" * 50)\n\ndetection_stats = helper.calculate_detection_rates(df)\n\nif 'ball' in detection_stats:\n    ball_stats = detection_stats['ball']\n    print(f\"Ball Detection Rate: {ball_stats['rate']:.1%} ({ball_stats['count']:,} / {ball_stats['total']:,} frames)\")\n\nfor player_id in [1, 2]:\n    player_key = f'player_{player_id}'\n    if player_key in detection_stats:\n        player_stats = detection_stats[player_key]\n        print(f\"Player {player_id} Detection Rate: {player_stats['rate']:.1%} ({player_stats['count']:,} / {player_stats['total']:,} frames)\")\n\nif 'both_players' in detection_stats:\n    both_stats = detection_stats['both_players']\n    print(f\"Both Players Detected: {both_stats['rate']:.1%} ({both_stats['count']:,} frames)\")\n\nif 'all_objects' in detection_stats:\n    all_stats = detection_stats['all_objects']\n    print(f\"All Objects Detected: {all_stats['rate']:.1%} ({all_stats['count']:,} frames)\")\n\nprint(f\"\\nCourt Information:\")\ncourt_cols = [col for col in df.columns if col.startswith('court_') and 'meters' in col]\nif court_cols:\n    for col in court_cols[:5]:\n        value = df[col].iloc[0] if not df[col].isna().all() else 'N/A'\n        measurement_name = col.replace('court_', '').replace('_meters', '').replace('_', ' ').title()\n        print(f\"  {measurement_name}: {value}\")\n\nif 'ball_video_source' in df.columns:\n    unique_videos = df['ball_video_source'].dropna().nunique()\n    print(f\"\\nVideo Information:\")\n    print(f\"  Unique videos in dataset: {unique_videos}\")\nelif 'player_1_video_source' in df.columns:\n    unique_videos = df['player_1_video_source'].dropna().nunique()\n    print(f\"\\nVideo Information:\")\n    print(f\"  Unique videos in dataset: {unique_videos}\")",
   "outputs": [],
   "execution_count": null
  },
  {
   "cell_type": "markdown",
   "metadata": {},
   "source": "## Data Quality Assessment"
  },
  {
   "cell_type": "code",
   "metadata": {
    "ExecuteTime": {
     "end_time": "2025-06-21T23:51:13.118714Z",
     "start_time": "2025-06-21T23:51:13.104177Z"
    }
   },
   "source": "print(\"DATA QUALITY ASSESSMENT\")\nprint(\"=\" * 50)\n\nmissing_info = helper.analyze_missing_data(df)\n\nprint(\"Missing Data in Key Tracking Columns:\")\nfor col, info in missing_info.items():\n    print(f\"  {col}: {info['percentage']:.1f}% missing ({info['count']:,} / {info['total']:,} frames)\")\n\ncontinuity_stats = helper.analyze_detection_continuity(df)\n\nprint(f\"\\nDetection Continuity Analysis:\")\nif 'ball' in continuity_stats:\n    ball_continuity = continuity_stats['ball']\n    print(f\"  Ball detection streaks: {ball_continuity['streak_count']} streaks\")\n    print(f\"    Average streak length: {ball_continuity['avg_length']:.1f} frames\")\n    print(f\"    Longest streak: {ball_continuity['max_length']} frames ({ball_continuity['max_length']/30:.1f}s)\")\n    print(f\"    Shortest streak: {ball_continuity['min_length']} frames\")\n\nconsistency_info = helper.check_temporal_consistency(df)\n\nprint(f\"\\nTemporal Consistency:\")\nif consistency_info:\n    print(f\"  Expected frame interval: {consistency_info['expected_interval']:.4f}s (30 fps)\")\n    print(f\"  Actual average interval: {consistency_info['actual_interval']:.4f}s\")\n    print(f\"  Timing consistency: {'Good' if consistency_info['is_consistent'] else 'Variable'}\")",
   "outputs": [],
   "execution_count": null
  },
  {
   "cell_type": "code",
   "metadata": {
    "ExecuteTime": {
     "end_time": "2025-06-21T23:51:14.063386Z",
     "start_time": "2025-06-21T23:51:13.184310Z"
    }
   },
   "source": "fig = helper.create_data_quality_plots(df)\nplt.show()\n\nprint(\"Data quality visualizations created\")\nsample_interval = max(1, len(df) // 1000)\nprint(f\"Sampled every {sample_interval} frames for visualization clarity\")",
   "outputs": [],
   "execution_count": null
  },
  {
   "cell_type": "markdown",
   "metadata": {},
   "source": "## Movement and Speed Analysis"
  },
  {
   "cell_type": "code",
   "metadata": {
    "ExecuteTime": {
     "end_time": "2025-06-21T23:51:14.149189Z",
     "start_time": "2025-06-21T23:51:14.129711Z"
    }
   },
   "source": "print(\"MOVEMENT AND SPEED ANALYSIS\")\nprint(\"=\" * 50)\n\nmovement_stats = helper.calculate_movement_stats(df)\n\nfor player_id in [1, 2]:\n    player_key = f'player_{player_id}'\n    if player_key in movement_stats:\n        stats = movement_stats[player_key]\n        print(f\"\\nPlayer {player_id} Movement Statistics:\")\n        print(f\"   Total movement samples: {stats['count']:,}\")\n        print(f\"   Average speed: {stats['mean_speed']:.1f} km/h\")\n        print(f\"   Median speed: {stats['median_speed']:.1f} km/h\")\n        print(f\"   Maximum speed: {stats['max_speed']:.1f} km/h\")\n        print(f\"   Speed variability (std): {stats['std_speed']:.1f} km/h\")\n        print(f\"   Total distance traveled: {stats['total_distance']:.1f} meters\")\n\nif 'ball' in movement_stats:\n    ball_stats = movement_stats['ball']\n    print(f\"\\nBall Movement Statistics:\")\n    print(f\"   Total movement samples: {ball_stats['count']:,}\")\n    print(f\"   Average speed: {ball_stats['mean_speed']:.1f} km/h\")\n    print(f\"   Median speed: {ball_stats['median_speed']:.1f} km/h\")\n    print(f\"   Maximum speed: {ball_stats['max_speed']:.1f} km/h\")\n    print(f\"   Speed variability (std): {ball_stats['std_speed']:.1f} km/h\")\n    print(f\"   Total distance traveled: {ball_stats['total_distance']:.1f} meters\")\n\nregion_stats = helper.analyze_court_regions(df)\n\nprint(f\"\\nMovement Patterns:\")\nfor player_id in [1, 2]:\n    player_key = f'player_{player_id}'\n    if player_key in region_stats:\n        print(f\"\\n   Player {player_id} court region usage:\")\n        regions = region_stats[player_key]\n        for region, info in list(regions.items())[:5]:\n            print(f\"     {region.replace('_', ' ').title()}: {info['percentage']:.1f}% ({info['count']:,} frames)\")",
   "outputs": [],
   "execution_count": null
  },
  {
   "cell_type": "code",
   "metadata": {
    "ExecuteTime": {
     "end_time": "2025-06-21T23:51:15.592437Z",
     "start_time": "2025-06-21T23:51:14.269426Z"
    }
   },
   "source": "fig = helper.create_movement_analysis_plots(df)\nplt.show()\n\nprint(\"Movement analysis visualizations created\")",
   "outputs": [],
   "execution_count": null
  },
  {
   "cell_type": "markdown",
   "metadata": {},
   "source": "## Temporal Pattern Analysis"
  },
  {
   "cell_type": "code",
   "metadata": {
    "ExecuteTime": {
     "end_time": "2025-06-21T23:51:15.638319Z",
     "start_time": "2025-06-21T23:51:15.601559Z"
    }
   },
   "source": "print(\"TEMPORAL PATTERN ANALYSIS\")\nprint(\"=\" * 50)\n\nprint(\"Detection Pattern Analysis:\")\n\nif 'video_transition' in df.columns:\n    transitions = df['video_transition'].sum()\n    print(f\"   Total video transitions: {transitions}\")\n    if transitions > 0:\n        print(f\"   Average time between transitions: {df['time_seconds'].max() / transitions:.1f} seconds\")\n\ntrajectory_stats = helper.analyze_ball_trajectory(df)\n\nif trajectory_stats:\n    print(f\"\\nBall Trajectory Analysis:\")\n    print(f\"   Ball movement range: X = {trajectory_stats['x_range']:.1f} pixels, Y = {trajectory_stats['y_range']:.1f} pixels\")\n    print(f\"   Ball center position: ({trajectory_stats['center_x']:.1f}, {trajectory_stats['center_y']:.1f}) pixels\")\n    print(f\"   Ball movement direction: {trajectory_stats['upward_frames']} upward frames, {trajectory_stats['downward_frames']} downward frames\")\n\ninteraction_stats = helper.analyze_player_interactions(df)\n\nprint(f\"\\nPlayer Interaction Analysis:\")\nif interaction_stats:\n    print(f\"   Frames with both players: {interaction_stats['frames_with_both']:,}\")\n    print(f\"   Average distance between players: {interaction_stats['avg_distance_pixels']:.1f} pixels\")\n    print(f\"   Minimum distance: {interaction_stats['min_distance_pixels']:.1f} pixels\")\n    print(f\"   Maximum distance: {interaction_stats['max_distance_pixels']:.1f} pixels\")\n    if 'avg_distance_meters' in interaction_stats:\n        print(f\"   Average distance (meters): {interaction_stats['avg_distance_meters']:.1f}m\")\n\nactivity_stats, activity_score = helper.calculate_activity_score(df)\n\nprint(f\"\\nActivity Intensity Analysis:\")\nif activity_stats:\n    print(f\"   Average activity score: {activity_stats['mean_score']:.2f} objects per frame\")\n    print(f\"   High activity frames (3 objects): {activity_stats['high_activity_frames']:,} ({activity_stats['high_activity_pct']:.1%})\")\n    print(f\"   Medium activity frames (2 objects): {activity_stats['medium_activity_frames']:,} ({activity_stats['medium_activity_pct']:.1%})\")\n    print(f\"   Low activity frames (1 object): {activity_stats['low_activity_frames']:,} ({activity_stats['low_activity_pct']:.1%})\")\n    print(f\"   No activity frames (0 objects): {activity_stats['no_activity_frames']:,} ({activity_stats['no_activity_pct']:.1%})\")\n\nvariance_stats = helper.analyze_speed_variance(df)\n\nprint(f\"\\nSpeed Variance Analysis:\")\nfor player_id in [1, 2]:\n    player_key = f'player_{player_id}'\n    if player_key in variance_stats:\n        stats = variance_stats[player_key]\n        print(f\"   Player {player_id}:\")\n        print(f\"     Speed variability (CV): {stats['coefficient_variation']:.2f}\")\n        print(f\"     High-speed frames (>{stats['high_speed_threshold']:.1f} km/h): {stats['high_speed_frames']} ({stats['high_speed_percentage']:.1%})\")",
   "outputs": [],
   "execution_count": null
  },
  {
   "cell_type": "code",
   "metadata": {
    "ExecuteTime": {
     "end_time": "2025-06-21T23:51:16.757032Z",
     "start_time": "2025-06-21T23:51:15.702668Z"
    }
   },
   "source": "fig = helper.create_temporal_pattern_plots(df)\nplt.show()\n\nprint(\"Temporal pattern visualizations created\")",
   "outputs": [],
   "execution_count": null
  },
  {
   "cell_type": "markdown",
   "metadata": {},
   "source": "##  Performance Metrics and Summary"
  },
  {
   "cell_type": "code",
   "metadata": {
    "ExecuteTime": {
     "end_time": "2025-06-21T23:51:16.868837Z",
     "start_time": "2025-06-21T23:51:16.833293Z"
    }
   },
   "source": "print(\"PERFORMANCE METRICS AND SUMMARY\")\nprint(\"=\" * 60)\n\nsummary_stats = helper.generate_summary_statistics(df, movement_stats, detection_stats, region_stats)\n\nfor category, stats in summary_stats.items():\n    print(f\"\\n{category}:\")\n    for metric, value in stats.items():\n        print(f\"   {metric}: {value}\")\n\ninsights, findings = helper.generate_insights_and_findings(detection_stats, movement_stats)\n\nprint(f\"\\nML4QS CHAPTER 2 INSIGHTS\")\nprint(\"=\" * 50)\n\nfor insight in insights:\n    print(f\"  {insight}\")\n\nprint(f\"\\nKey Findings:\")\nfor i, finding in enumerate(findings, 1):\n    print(f\"  {i}. {finding}\")\n\nprint(f\"\\nANALYSIS COMPLETE!\")\nprint(f\"This dataset demonstrates successful application of ML4QS Chapter 2 concepts\")\nprint(f\"Ready for advanced tennis analytics and machine learning applications\")\nprint(\"=\" * 60)",
   "outputs": [],
   "execution_count": null
  },
  {
   "cell_type": "code",
   "metadata": {
    "ExecuteTime": {
     "end_time": "2025-06-21T23:51:16.947861Z",
     "start_time": "2025-06-21T23:51:16.934107Z"
    }
   },
   "source": "print(\"EXPORTING ANALYSIS RESULTS\")\nprint(\"=\" * 40)\n\nanalysis_timestamp = datetime.now().strftime(\"%Y%m%d_%H%M%S\")\n\nexport_info = helper.export_analysis_results(summary_stats, insights, findings, dataset_file, analysis_timestamp)\n\nif export_info['success']:\n    print(f\"Analysis results exported: {export_info['json_file']}\")\n    print(f\"Analysis report exported: {export_info['report_file']}\")\n    \n    if len(df) > 10000:\n        sample_size = 10000\n        sample_df = df.sample(n=sample_size, random_state=42)\n        sample_filename = f'tennis_dataset_sample_{analysis_timestamp}.csv'\n        sample_df.to_csv(sample_filename)\n        print(f\"Dataset sample exported: {sample_filename} ({sample_size:,} rows)\")\n    \n    print(f\"\\nExport Summary:\")\n    print(f\"   JSON results: {export_info['json_file']}\")\n    print(f\"   Text report: {export_info['report_file']}\")\n    if len(df) > 10000:\n        print(f\"   Data sample: {sample_filename}\")\nelse:\n    print(f\"Error exporting results: {export_info['error']}\")\n\nprint(f\"\\nTENNIS DATASET ANALYSIS COMPLETE!\")\nprint(f\"Dataset successfully analyzed using ML4QS Chapter 2 methodologies\")\nprint(f\"Results demonstrate comprehensive temporal data analysis capabilities\")",
   "outputs": [],
   "execution_count": null
  }
 ],
 "metadata": {
  "kernelspec": {
   "display_name": "Python 3",
   "language": "python",
   "name": "python3"
  },
  "language_info": {
   "codemirror_mode": {
    "name": "ipython",
    "version": 3
   },
   "file_extension": ".py",
   "mimetype": "text/x-python",
   "name": "python",
   "nbconvert_exporter": "python",
   "pygments_lexer": "ipython3",
   "version": "3.8.5"
  }
 },
 "nbformat": 4,
 "nbformat_minor": 4
}
