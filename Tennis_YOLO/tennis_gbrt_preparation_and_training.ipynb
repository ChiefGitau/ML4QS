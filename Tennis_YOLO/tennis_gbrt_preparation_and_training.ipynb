{
 "cells": [
  {
   "cell_type": "markdown",
   "metadata": {},
   "source": [
    "# Tennis Ball Trajectory Prediction with GBRT\n",
    "\n",
    "- **Data Preparation**: Transform preprocessed tennis data to match GBRT requirements\n",
    "- **Feature Engineering**: Create physics-based features for ball trajectory prediction\n",
    "- **Model Training**: Run the optimized GBRT model with Bayesian hyperparameter optimization\n",
    "- **Performance Evaluation**: Assess prediction accuracy and model performance\n",
    "\n",
    "### GBRT Model Features:\n",
    "- **Multi-output regression** for x,y ball position prediction\n",
    "- **Time series cross-validation** for temporal data\n",
    "- **Bayesian optimization** for hyperparameter tuning\n",
    "- **Physics-informed features** including velocity, acceleration, and court-relative positions"
   ]
  },
  {
   "cell_type": "code",
   "metadata": {
    "ExecuteTime": {
     "end_time": "2025-06-23T22:42:58.394457Z",
     "start_time": "2025-06-23T22:42:56.255314Z"
    }
   },
   "source": "import numpy as np\nimport pandas as pd\nimport matplotlib.pyplot as plt\nimport seaborn as sns\nfrom sklearn.ensemble import GradientBoostingRegressor\nfrom sklearn.model_selection import TimeSeriesSplit, train_test_split\nfrom sklearn.metrics import mean_absolute_error, mean_squared_error, r2_score\nfrom sklearn.impute import SimpleImputer\nfrom sklearn.multioutput import MultiOutputRegressor\nfrom sklearn.pipeline import Pipeline\nfrom sklearn.preprocessing import StandardScaler\nfrom skopt import BayesSearchCV\nfrom skopt.space import Real, Integer\nfrom scipy.signal import savgol_filter\nimport warnings\nwarnings.filterwarnings('ignore')\n\nimport data_analysis_help.gbrt_training_helper as gbrt_helper\n\nplt.style.use('default')\nsns.set_palette(\"husl\")\n\nprint(\"Libraries imported successfully!\")\nprint(\"Ready for GBRT tennis ball trajectory prediction\")",
   "outputs": [],
   "execution_count": null
  },
  {
   "cell_type": "markdown",
   "metadata": {},
   "source": "##  Data Loading and Preparation"
  },
  {
   "cell_type": "code",
   "metadata": {
    "ExecuteTime": {
     "end_time": "2025-06-23T22:42:59.356191Z",
     "start_time": "2025-06-23T22:42:58.403505Z"
    }
   },
   "source": [
    "\n",
    "dataset_file = 'dataset/complete_tennis_comprehensive_preprocessed_ml4qs.csv'\n",
    "\n",
    "try:\n",
    "    print(f\"Loading: {dataset_file}\")\n",
    "    df_raw = pd.read_csv(dataset_file)\n",
    "    \n",
    "    print(\"Dataset loaded successfully!\")\n",
    "    print(f\"Shape: {df_raw.shape[0]:,} rows × {df_raw.shape[1]} columns\")\n",
    "    \n",
    "    video_cols = [col for col in df_raw.columns if 'video' in col.lower() and 'source' in col.lower()]\n",
    "    if video_cols:\n",
    "        video_col = video_cols[0]\n",
    "        unique_videos = df_raw[video_col].nunique()\n",
    "        print(f\"Videos: {unique_videos} unique videos\")\n",
    "    \n",
    "    if 'time_seconds' in df_raw.columns:\n",
    "        print(f\"Duration: {df_raw['time_seconds'].max():.1f} seconds\")\n",
    "    \n",
    "    if 'ball_detected' in df_raw.columns:\n",
    "        detection_rate = df_raw['ball_detected'].mean()\n",
    "        print(f\"Ball detection rate: {detection_rate:.1%}\")\n",
    "    \n",
    "    print(f\"\\nKey columns for GBRT:\")\n",
    "    key_cols = ['timestamp', 'ball_center_x', 'ball_center_y', 'ball_x1', 'ball_y1', 'ball_x2', 'ball_y2', \n",
    "                'time_seconds', 'court_width_pixels', 'court_height_pixels', 'player_1_center_x', 'player_1_center_y']\n",
    "    \n",
    "    available_key_cols = [col for col in key_cols if col in df_raw.columns]\n",
    "    for col in available_key_cols:\n",
    "        missing_pct = df_raw[col].isnull().mean() * 100\n",
    "        print(f\"   {col}: {missing_pct:.1f}% missing\")\n",
    "    \n",
    "except FileNotFoundError:\n",
    "    print(f\"File not found: {dataset_file}\")\n",
    "    print(\"Available files in directory:\")\n",
    "    import glob\n",
    "    csv_files = glob.glob('*.csv')\n",
    "    for f in csv_files:\n",
    "        print(f\"  - {f}\")\n",
    "    raise FileNotFoundError(f\"Please ensure {dataset_file} exists in the current directory\")\n",
    "    \n",
    "except Exception as e:\n",
    "    print(f\"Error loading dataset: {e}\")\n",
    "    raise"
   ],
   "outputs": [],
   "execution_count": null
  },
  {
   "cell_type": "code",
   "metadata": {
    "ExecuteTime": {
     "end_time": "2025-06-23T22:42:59.717616Z",
     "start_time": "2025-06-23T22:42:59.528259Z"
    }
   },
   "source": "df_prepared = gbrt_helper.load_and_prepare_data(df_raw.copy())",
   "outputs": [],
   "execution_count": null
  },
  {
   "cell_type": "markdown",
   "metadata": {},
   "source": "## Feature Engineering for GBRT"
  },
  {
   "cell_type": "code",
   "metadata": {
    "ExecuteTime": {
     "end_time": "2025-06-23T22:42:59.890508Z",
     "start_time": "2025-06-23T22:42:59.741528Z"
    }
   },
   "source": "df_features = gbrt_helper.create_features(df_prepared, window_size=5)",
   "outputs": [],
   "execution_count": null
  },
  {
   "cell_type": "markdown",
   "metadata": {},
   "source": "## Sequence Preparation for Time Series Prediction"
  },
  {
   "cell_type": "code",
   "metadata": {
    "ExecuteTime": {
     "end_time": "2025-06-23T22:43:15.390842Z",
     "start_time": "2025-06-23T22:42:59.918248Z"
    }
   },
   "source": [
    "X, y, feature_cols, target_cols = gbrt_helper.prepare_sequences(df_features, hist_frames=12, pred_frames=5)\n",
    "\n",
    "print(f\"\\nFinal training data summary:\")\n",
    "print(f\" Input sequences (X): {X.shape}\")\n",
    "print(f\"   Target sequences (y): {y.shape}\")\n",
    "print(f\"   Features per frame: {len(feature_cols)}\")\n",
    "print(f\"  Sequence input dimension: {X.shape[1]} (12 frames × {len(feature_cols)} features)\")\n",
    "print(f\" Sequence output dimension: {y.shape[1]} (5 frames × 2 coordinates)\")"
   ],
   "outputs": [],
   "execution_count": null
  },
  {
   "cell_type": "markdown",
   "metadata": {},
   "source": "## GBRT Model Training with Bayesian Optimization"
  },
  {
   "cell_type": "code",
   "metadata": {
    "ExecuteTime": {
     "end_time": "2025-06-24T02:21:42.496193Z",
     "start_time": "2025-06-23T22:43:15.442063Z"
    }
   },
   "source": [
    "\n",
    "model = gbrt_helper.train_physics_gbrt(X, y)\n",
    "\n",
    "print(\"\\nModel training completed!\")"
   ],
   "outputs": [],
   "execution_count": null
  },
  {
   "cell_type": "markdown",
   "metadata": {},
   "source": "## Model Evaluation and Performance Analysis"
  },
  {
   "cell_type": "code",
   "metadata": {},
   "outputs": [],
   "source": "gbrt_params = gbrt_helper.get_model_parameters(model)\n\nprint(f\"\\nMulti-output setup:\")\nprint(f\"   Number of outputs: {len(target_cols)} (x, y coordinates)\")\nprint(f\"   Prediction horizon: 5 frames\")\nprint(f\"   Total predictions per sequence: 10 (5 frames × 2 coordinates)\")",
   "execution_count": null
  },
  {
   "cell_type": "code",
   "metadata": {},
   "outputs": [],
   "source": "print(\"MODEL EVALUATION\")\nprint(\"=\" * 30)\n\nmetrics = gbrt_helper.evaluate_model(model, X, y, target_cols)",
   "execution_count": null
  },
  {
   "cell_type": "markdown",
   "metadata": {},
   "source": "## Visualization of Results"
  },
  {
   "cell_type": "code",
   "metadata": {},
   "outputs": [],
   "source": "fig = gbrt_helper.create_performance_plots(metrics)\nplt.show()",
   "execution_count": null
  },
  {
   "cell_type": "code",
   "metadata": {},
   "outputs": [],
   "source": "fig = gbrt_helper.create_trajectory_plots(metrics)\nplt.show()",
   "execution_count": null
  },
  {
   "cell_type": "markdown",
   "metadata": {},
   "source": "## 7. Model Summary and Export"
  },
  {
   "cell_type": "code",
   "metadata": {},
   "outputs": [],
   "source": "performance_level = gbrt_helper.generate_model_summary(df_raw, df_features, X, feature_cols, video_cols, metrics)",
   "execution_count": null
  },
  {
   "cell_type": "code",
   "metadata": {},
   "outputs": [],
   "source": "export_info = gbrt_helper.save_model_and_results(model, df_raw, df_features, X, feature_cols, video_cols, metrics)",
   "execution_count": null
  }
 ],
 "metadata": {
  "kernelspec": {
   "display_name": "Python 3",
   "language": "python",
   "name": "python3"
  },
  "language_info": {
   "codemirror_mode": {
    "name": "ipython",
    "version": 3
   },
   "file_extension": ".py",
   "mimetype": "text/x-python",
   "name": "python",
   "nbconvert_exporter": "python",
   "pygments_lexer": "ipython3",
   "version": "3.8.5"
  }
 },
 "nbformat": 4,
 "nbformat_minor": 4
}
